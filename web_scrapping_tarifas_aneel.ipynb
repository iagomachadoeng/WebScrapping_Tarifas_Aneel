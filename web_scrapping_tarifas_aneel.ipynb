{
 "cells": [
  {
   "cell_type": "code",
   "execution_count": 10,
   "metadata": {},
   "outputs": [],
   "source": [
    "from selenium import webdriver\n",
    "from selenium.webdriver.chrome.service import Service\n",
    "from webdriver_manager.chrome import ChromeDriverManager\n",
    "from selenium.webdriver.common.by import By\n",
    "from selenium.webdriver.support.ui import Select\n",
    "import time\n",
    "import pandas as pd\n",
    "\n",
    "servico = Service(ChromeDriverManager().install())\n",
    "\n",
    "driver = webdriver.Chrome(service=servico)\n"
   ]
  },
  {
   "cell_type": "code",
   "execution_count": 13,
   "metadata": {},
   "outputs": [],
   "source": [
    "#driver = webdriver.Chrome(service=servico)\n",
    "\n",
    "#acessar site\n",
    "driver.get(\"https://www2.aneel.gov.br/aplicacoes_liferay/tarifa/\")\n",
    "time.sleep(2)\n"
   ]
  },
  {
   "cell_type": "code",
   "execution_count": 14,
   "metadata": {},
   "outputs": [],
   "source": [
    "#Seleciona Categoria do Agente Todos\n",
    "select_cat_agente = Select(driver.find_element(By.NAME,\"CategoriaAgente\"))\n",
    "select_cat_agente.select_by_visible_text('Todos')\n",
    "time.sleep(1)\n",
    "\n",
    "#Seleciona o Agente\n",
    "select_agente = Select(driver.find_element(By.NAME,\"Agentes\"))\n",
    "options_agente = [x.text for x in select_agente.options] #Traz todas as opcoes\n",
    "i=0\n",
    "for element in options_agente:\n",
    "    if element == 'ENEL CE':\n",
    "        select_agente.select_by_index(i)\n",
    "        break\n",
    "    i+=1\n",
    "\n",
    "time.sleep(1)\n",
    "#Seleciona Tipo de Processo\n",
    "select_tipo_processo = Select(driver.find_element(By.NAME,\"TipoProcesso\"))\n",
    "select_tipo_processo.select_by_visible_text('Todos')\n",
    "time.sleep(1)\n",
    "#Seleciona Ano\n",
    "select_ano = Select(driver.find_element(By.NAME,\"Ano\"))\n",
    "select_ano.select_by_visible_text('Todos')\n",
    "\n",
    "time.sleep(1)\n",
    "\n",
    "#Clica em Procurar\n",
    "driver.find_element(By.XPATH,'/html/body/table/tbody/tr[2]/td[5]/input').click()\n",
    "\n",
    "time.sleep(1)\n",
    "\n",
    "#Baixa o arquivo PCAT mais atualizado (estrutura tarifaria)\n",
    "\n",
    "time.sleep(1)\n",
    "driver.find_element(By.XPATH, '/html/body/div/table/tbody/tr[4]/td[7]/a/img').click()\n",
    "\n",
    "\n",
    "\n",
    "\n",
    "#select_agente.selectByValue('ENEL CE')\n"
   ]
  },
  {
   "cell_type": "code",
   "execution_count": 43,
   "metadata": {},
   "outputs": [
    {
     "ename": "NoSuchElementException",
     "evalue": "Message: no such element: Unable to locate element: {\"method\":\"partial link text\",\"selector\":\"PCAT\"}\n  (Session info: chrome=109.0.5414.120)\nStacktrace:\nBacktrace:\n\t(No symbol) [0x009D6643]\n\t(No symbol) [0x0096BE21]\n\t(No symbol) [0x0086DA9D]\n\t(No symbol) [0x008A1342]\n\t(No symbol) [0x008A147B]\n\t(No symbol) [0x008D8DC2]\n\t(No symbol) [0x008BFDC4]\n\t(No symbol) [0x008D6B09]\n\t(No symbol) [0x008BFB76]\n\t(No symbol) [0x008949C1]\n\t(No symbol) [0x00895E5D]\n\tGetHandleVerifier [0x00C4A142+2497106]\n\tGetHandleVerifier [0x00C785D3+2686691]\n\tGetHandleVerifier [0x00C7BB9C+2700460]\n\tGetHandleVerifier [0x00A83B10+635936]\n\t(No symbol) [0x00974A1F]\n\t(No symbol) [0x0097A418]\n\t(No symbol) [0x0097A505]\n\t(No symbol) [0x0098508B]\n\tBaseThreadInitThunk [0x76417D69+25]\n\tRtlInitializeExceptionChain [0x7778BB9B+107]\n\tRtlClearBits [0x7778BB1F+191]\n",
     "output_type": "error",
     "traceback": [
      "\u001b[1;31m---------------------------------------------------------------------------\u001b[0m",
      "\u001b[1;31mNoSuchElementException\u001b[0m                    Traceback (most recent call last)",
      "\u001b[1;32m~\\AppData\\Local\\Temp\\ipykernel_15092\\2676726584.py\u001b[0m in \u001b[0;36m<module>\u001b[1;34m\u001b[0m\n\u001b[0;32m      1\u001b[0m \u001b[1;31m#driver.find_element(By.XPATH, '/html/body/div/table/tbody/tr[4]/td[7]/a/img').click()\u001b[0m\u001b[1;33m\u001b[0m\u001b[1;33m\u001b[0m\u001b[0m\n\u001b[1;32m----> 2\u001b[1;33m \u001b[0mdriver\u001b[0m\u001b[1;33m.\u001b[0m\u001b[0mfind_element\u001b[0m\u001b[1;33m(\u001b[0m\u001b[0mBy\u001b[0m\u001b[1;33m.\u001b[0m\u001b[0mPARTIAL_LINK_TEXT\u001b[0m\u001b[1;33m,\u001b[0m \u001b[1;34m'PCAT'\u001b[0m\u001b[1;33m)\u001b[0m\u001b[1;33m.\u001b[0m\u001b[0mclick\u001b[0m\u001b[1;33m(\u001b[0m\u001b[1;33m)\u001b[0m\u001b[1;33m\u001b[0m\u001b[1;33m\u001b[0m\u001b[0m\n\u001b[0m",
      "\u001b[1;32mc:\\Users\\iagom\\anaconda3\\lib\\site-packages\\selenium\\webdriver\\remote\\webdriver.py\u001b[0m in \u001b[0;36mfind_element\u001b[1;34m(self, by, value)\u001b[0m\n\u001b[0;32m    828\u001b[0m             \u001b[0mvalue\u001b[0m \u001b[1;33m=\u001b[0m \u001b[1;34mf'[name=\"{value}\"]'\u001b[0m\u001b[1;33m\u001b[0m\u001b[1;33m\u001b[0m\u001b[0m\n\u001b[0;32m    829\u001b[0m \u001b[1;33m\u001b[0m\u001b[0m\n\u001b[1;32m--> 830\u001b[1;33m         \u001b[1;32mreturn\u001b[0m \u001b[0mself\u001b[0m\u001b[1;33m.\u001b[0m\u001b[0mexecute\u001b[0m\u001b[1;33m(\u001b[0m\u001b[0mCommand\u001b[0m\u001b[1;33m.\u001b[0m\u001b[0mFIND_ELEMENT\u001b[0m\u001b[1;33m,\u001b[0m \u001b[1;33m{\u001b[0m\u001b[1;34m\"using\"\u001b[0m\u001b[1;33m:\u001b[0m \u001b[0mby\u001b[0m\u001b[1;33m,\u001b[0m \u001b[1;34m\"value\"\u001b[0m\u001b[1;33m:\u001b[0m \u001b[0mvalue\u001b[0m\u001b[1;33m}\u001b[0m\u001b[1;33m)\u001b[0m\u001b[1;33m[\u001b[0m\u001b[1;34m\"value\"\u001b[0m\u001b[1;33m]\u001b[0m\u001b[1;33m\u001b[0m\u001b[1;33m\u001b[0m\u001b[0m\n\u001b[0m\u001b[0;32m    831\u001b[0m \u001b[1;33m\u001b[0m\u001b[0m\n\u001b[0;32m    832\u001b[0m     \u001b[1;32mdef\u001b[0m \u001b[0mfind_elements\u001b[0m\u001b[1;33m(\u001b[0m\u001b[0mself\u001b[0m\u001b[1;33m,\u001b[0m \u001b[0mby\u001b[0m\u001b[1;33m=\u001b[0m\u001b[0mBy\u001b[0m\u001b[1;33m.\u001b[0m\u001b[0mID\u001b[0m\u001b[1;33m,\u001b[0m \u001b[0mvalue\u001b[0m\u001b[1;33m:\u001b[0m \u001b[0mOptional\u001b[0m\u001b[1;33m[\u001b[0m\u001b[0mstr\u001b[0m\u001b[1;33m]\u001b[0m \u001b[1;33m=\u001b[0m \u001b[1;32mNone\u001b[0m\u001b[1;33m)\u001b[0m \u001b[1;33m->\u001b[0m \u001b[0mList\u001b[0m\u001b[1;33m[\u001b[0m\u001b[0mWebElement\u001b[0m\u001b[1;33m]\u001b[0m\u001b[1;33m:\u001b[0m\u001b[1;33m\u001b[0m\u001b[1;33m\u001b[0m\u001b[0m\n",
      "\u001b[1;32mc:\\Users\\iagom\\anaconda3\\lib\\site-packages\\selenium\\webdriver\\remote\\webdriver.py\u001b[0m in \u001b[0;36mexecute\u001b[1;34m(self, driver_command, params)\u001b[0m\n\u001b[0;32m    438\u001b[0m         \u001b[0mresponse\u001b[0m \u001b[1;33m=\u001b[0m \u001b[0mself\u001b[0m\u001b[1;33m.\u001b[0m\u001b[0mcommand_executor\u001b[0m\u001b[1;33m.\u001b[0m\u001b[0mexecute\u001b[0m\u001b[1;33m(\u001b[0m\u001b[0mdriver_command\u001b[0m\u001b[1;33m,\u001b[0m \u001b[0mparams\u001b[0m\u001b[1;33m)\u001b[0m\u001b[1;33m\u001b[0m\u001b[1;33m\u001b[0m\u001b[0m\n\u001b[0;32m    439\u001b[0m         \u001b[1;32mif\u001b[0m \u001b[0mresponse\u001b[0m\u001b[1;33m:\u001b[0m\u001b[1;33m\u001b[0m\u001b[1;33m\u001b[0m\u001b[0m\n\u001b[1;32m--> 440\u001b[1;33m             \u001b[0mself\u001b[0m\u001b[1;33m.\u001b[0m\u001b[0merror_handler\u001b[0m\u001b[1;33m.\u001b[0m\u001b[0mcheck_response\u001b[0m\u001b[1;33m(\u001b[0m\u001b[0mresponse\u001b[0m\u001b[1;33m)\u001b[0m\u001b[1;33m\u001b[0m\u001b[1;33m\u001b[0m\u001b[0m\n\u001b[0m\u001b[0;32m    441\u001b[0m             \u001b[0mresponse\u001b[0m\u001b[1;33m[\u001b[0m\u001b[1;34m\"value\"\u001b[0m\u001b[1;33m]\u001b[0m \u001b[1;33m=\u001b[0m \u001b[0mself\u001b[0m\u001b[1;33m.\u001b[0m\u001b[0m_unwrap_value\u001b[0m\u001b[1;33m(\u001b[0m\u001b[0mresponse\u001b[0m\u001b[1;33m.\u001b[0m\u001b[0mget\u001b[0m\u001b[1;33m(\u001b[0m\u001b[1;34m\"value\"\u001b[0m\u001b[1;33m,\u001b[0m \u001b[1;32mNone\u001b[0m\u001b[1;33m)\u001b[0m\u001b[1;33m)\u001b[0m\u001b[1;33m\u001b[0m\u001b[1;33m\u001b[0m\u001b[0m\n\u001b[0;32m    442\u001b[0m             \u001b[1;32mreturn\u001b[0m \u001b[0mresponse\u001b[0m\u001b[1;33m\u001b[0m\u001b[1;33m\u001b[0m\u001b[0m\n",
      "\u001b[1;32mc:\\Users\\iagom\\anaconda3\\lib\\site-packages\\selenium\\webdriver\\remote\\errorhandler.py\u001b[0m in \u001b[0;36mcheck_response\u001b[1;34m(self, response)\u001b[0m\n\u001b[0;32m    243\u001b[0m                 \u001b[0malert_text\u001b[0m \u001b[1;33m=\u001b[0m \u001b[0mvalue\u001b[0m\u001b[1;33m[\u001b[0m\u001b[1;34m\"alert\"\u001b[0m\u001b[1;33m]\u001b[0m\u001b[1;33m.\u001b[0m\u001b[0mget\u001b[0m\u001b[1;33m(\u001b[0m\u001b[1;34m\"text\"\u001b[0m\u001b[1;33m)\u001b[0m\u001b[1;33m\u001b[0m\u001b[1;33m\u001b[0m\u001b[0m\n\u001b[0;32m    244\u001b[0m             \u001b[1;32mraise\u001b[0m \u001b[0mexception_class\u001b[0m\u001b[1;33m(\u001b[0m\u001b[0mmessage\u001b[0m\u001b[1;33m,\u001b[0m \u001b[0mscreen\u001b[0m\u001b[1;33m,\u001b[0m \u001b[0mstacktrace\u001b[0m\u001b[1;33m,\u001b[0m \u001b[0malert_text\u001b[0m\u001b[1;33m)\u001b[0m  \u001b[1;31m# type: ignore[call-arg]  # mypy is not smart enough here\u001b[0m\u001b[1;33m\u001b[0m\u001b[1;33m\u001b[0m\u001b[0m\n\u001b[1;32m--> 245\u001b[1;33m         \u001b[1;32mraise\u001b[0m \u001b[0mexception_class\u001b[0m\u001b[1;33m(\u001b[0m\u001b[0mmessage\u001b[0m\u001b[1;33m,\u001b[0m \u001b[0mscreen\u001b[0m\u001b[1;33m,\u001b[0m \u001b[0mstacktrace\u001b[0m\u001b[1;33m)\u001b[0m\u001b[1;33m\u001b[0m\u001b[1;33m\u001b[0m\u001b[0m\n\u001b[0m",
      "\u001b[1;31mNoSuchElementException\u001b[0m: Message: no such element: Unable to locate element: {\"method\":\"partial link text\",\"selector\":\"PCAT\"}\n  (Session info: chrome=109.0.5414.120)\nStacktrace:\nBacktrace:\n\t(No symbol) [0x009D6643]\n\t(No symbol) [0x0096BE21]\n\t(No symbol) [0x0086DA9D]\n\t(No symbol) [0x008A1342]\n\t(No symbol) [0x008A147B]\n\t(No symbol) [0x008D8DC2]\n\t(No symbol) [0x008BFDC4]\n\t(No symbol) [0x008D6B09]\n\t(No symbol) [0x008BFB76]\n\t(No symbol) [0x008949C1]\n\t(No symbol) [0x00895E5D]\n\tGetHandleVerifier [0x00C4A142+2497106]\n\tGetHandleVerifier [0x00C785D3+2686691]\n\tGetHandleVerifier [0x00C7BB9C+2700460]\n\tGetHandleVerifier [0x00A83B10+635936]\n\t(No symbol) [0x00974A1F]\n\t(No symbol) [0x0097A418]\n\t(No symbol) [0x0097A505]\n\t(No symbol) [0x0098508B]\n\tBaseThreadInitThunk [0x76417D69+25]\n\tRtlInitializeExceptionChain [0x7778BB9B+107]\n\tRtlClearBits [0x7778BB1F+191]\n"
     ]
    }
   ],
   "source": [
    "#driver.find_element(By.XPATH, '/html/body/div/table/tbody/tr[4]/td[7]/a/img').click()\n",
    "#driver.find_element(By.PARTIAL_LINK_TEXT, 'PCAT').click()"
   ]
  },
  {
   "cell_type": "code",
   "execution_count": 27,
   "metadata": {},
   "outputs": [
    {
     "data": {
      "text/plain": [
       "['Escolha um processo',\n",
       " 'Todos',\n",
       " 'AME',\n",
       " 'Boa Vista',\n",
       " 'CAIUÁ',\n",
       " 'CASTRO - DIS',\n",
       " 'CEA',\n",
       " 'CEB',\n",
       " 'CEBDIS',\n",
       " 'CEDRAP',\n",
       " 'CEDRI',\n",
       " 'CEEE-D',\n",
       " 'CEGERO',\n",
       " 'CEJAMA',\n",
       " 'CELESC',\n",
       " 'CELESC-DIS',\n",
       " 'CELETRO',\n",
       " 'CELG',\n",
       " 'CELG-D',\n",
       " 'CELPE',\n",
       " 'CEMIG-D',\n",
       " 'CEMIRIM',\n",
       " 'CEPRAG',\n",
       " 'CERAÇÁ',\n",
       " 'CERAL ANITÁPOLIS',\n",
       " 'CERAL ARAPOTI',\n",
       " 'CERAL ARARUAMA',\n",
       " 'CERBRANORTE',\n",
       " 'CERCI',\n",
       " 'CERCOS',\n",
       " 'CEREJ',\n",
       " 'CERES',\n",
       " 'CERFOX',\n",
       " 'CERGAL',\n",
       " 'CERGAPA',\n",
       " 'CERGRAL',\n",
       " 'CERILUZ',\n",
       " 'CERIM',\n",
       " 'CERIPA',\n",
       " 'CERIS',\n",
       " 'CERMC',\n",
       " 'CERMC',\n",
       " 'CERMISSÕES',\n",
       " 'CERMOFUL',\n",
       " 'CERNHE',\n",
       " 'CERON',\n",
       " 'CERPALO',\n",
       " 'CERPRO',\n",
       " 'CERR',\n",
       " 'CERRP',\n",
       " 'CERSAD DISTRIBUIDORA',\n",
       " 'CERSUL',\n",
       " 'CERTAJA',\n",
       " 'CERTEL ENERGIA',\n",
       " 'CERTHIL',\n",
       " 'CERTREL',\n",
       " 'CERVAM',\n",
       " 'CETRIL',\n",
       " 'CFLO',\n",
       " 'CHESP',\n",
       " 'CNEE',\n",
       " 'COCEL',\n",
       " 'CODESAM',\n",
       " 'COELBA',\n",
       " 'COOPERA',\n",
       " 'COOPERALIANÇA',\n",
       " 'COOPERCOCAL',\n",
       " 'COOPERLUZ',\n",
       " 'COOPERMILA',\n",
       " 'COOPERNORTE',\n",
       " 'COOPERSUL',\n",
       " 'COOPERZEM',\n",
       " 'COORSEL',\n",
       " 'COPEL-DIS',\n",
       " 'COPREL',\n",
       " 'COSERN',\n",
       " 'CPFL Jaguari',\n",
       " 'CPFL Leste Paulista',\n",
       " 'CPFL Mococa',\n",
       " 'CPFL- PIRATININGA',\n",
       " 'CPFL Santa Cruz',\n",
       " 'CPFL Sul Paulista',\n",
       " 'CPFL-PAULISTA',\n",
       " 'CRELUZ-D',\n",
       " 'CRERAL',\n",
       " 'DCELT',\n",
       " 'DEMEI',\n",
       " 'DMED',\n",
       " 'EBO',\n",
       " 'EDEVP',\n",
       " 'EDP ES',\n",
       " 'EDP SP',\n",
       " 'EEB',\n",
       " 'EFLJC',\n",
       " 'EFLUL',\n",
       " 'ELEKTRO',\n",
       " 'ELETROACRE',\n",
       " 'ELETROCAR',\n",
       " 'ELETROPAULO',\n",
       " 'ELFSM',\n",
       " 'EMG',\n",
       " 'EMS',\n",
       " 'EMT',\n",
       " 'ENEL CE',\n",
       " 'ENEL RJ',\n",
       " 'ENF',\n",
       " 'EPB',\n",
       " 'Equatorial AL',\n",
       " 'Equatorial MA',\n",
       " 'Equatorial PA',\n",
       " 'Equatorial PI',\n",
       " 'ESE',\n",
       " 'ESS',\n",
       " 'ETO',\n",
       " 'FORCEL',\n",
       " 'HIDROPAN',\n",
       " 'LIGHT',\n",
       " 'MUXENERGIA',\n",
       " 'RGE',\n",
       " 'RGE SUL',\n",
       " 'SULGIPE',\n",
       " 'UHENPAL']"
      ]
     },
     "execution_count": 27,
     "metadata": {},
     "output_type": "execute_result"
    }
   ],
   "source": [
    "#Trazer todas as opções de uma drop down\n",
    "select = Select(driver.find_element(By.NAME,\"Agentes\"))\n",
    "options = [x.text for x in select.options]\n",
    "options\n",
    "\n",
    "#options = Select(1)\n",
    "\n",
    "#options2 = options.options()\n",
    "#options2\n",
    "\n",
    "# select by visible text\n",
    "#select.select_by_visible_text('Todos')\n",
    "\n",
    "# select by value \n",
    "#select.select_by_value('1')"
   ]
  },
  {
   "cell_type": "code",
   "execution_count": 22,
   "metadata": {},
   "outputs": [
    {
     "data": {
      "text/plain": [
       "['Escolha uma categoria',\n",
       " 'Todos',\n",
       " 'Permissionária de Distribuição',\n",
       " 'Concessionária de Distribuição']"
      ]
     },
     "execution_count": 22,
     "metadata": {},
     "output_type": "execute_result"
    }
   ],
   "source": [
    "options"
   ]
  }
 ],
 "metadata": {
  "kernelspec": {
   "display_name": "Python 3.8.8 ('base')",
   "language": "python",
   "name": "python3"
  },
  "language_info": {
   "codemirror_mode": {
    "name": "ipython",
    "version": 3
   },
   "file_extension": ".py",
   "mimetype": "text/x-python",
   "name": "python",
   "nbconvert_exporter": "python",
   "pygments_lexer": "ipython3",
   "version": "3.8.8"
  },
  "orig_nbformat": 4,
  "vscode": {
   "interpreter": {
    "hash": "6fae18430d686fd94b4a6fe66d389dfff64bb20b2e99d78f26920281f70a5a9d"
   }
  }
 },
 "nbformat": 4,
 "nbformat_minor": 2
}
