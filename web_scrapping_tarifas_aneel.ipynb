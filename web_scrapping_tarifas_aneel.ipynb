{
 "cells": [
  {
   "cell_type": "code",
   "execution_count": 67,
   "metadata": {},
   "outputs": [],
   "source": [
    "from selenium import webdriver\n",
    "from selenium.webdriver.chrome.service import Service\n",
    "from webdriver_manager.chrome import ChromeDriverManager\n",
    "from selenium.webdriver.common.by import By\n",
    "from selenium.webdriver.support.ui import Select\n",
    "import time\n",
    "import pandas as pd\n",
    "\n",
    "\n",
    "\n",
    "#Função para Renomear arquivo recentemente baixado\n",
    "import os,glob\n",
    "from shutil import move\n",
    "\n",
    "def get_last_filename_and_rename(save_folder, new_filename):\n",
    "    files = glob.glob(save_folder + '/*')\n",
    "    max_file = max(files, key=os.path.getctime)\n",
    "    filename = max_file.split(\"/\")[-1].split(\".\")[0]\n",
    "    new_path = max_file.replace(filename, new_filename)\n",
    "    move(max_file, new_path)\n",
    "    #os.rename(max_file, new_path)\n",
    "    return new_path\n",
    "\n",
    "\n",
    "\n",
    "\n",
    "\n",
    "\n",
    "#def get_last_filename_and_rename(save_folder, new_filename):\n",
    "#    files = glob.glob(save_folder + '/*')\n",
    "#    max_file = max(files, key=os.path.getctime)\n",
    "#    filename = max_file.split(\"/\")[-1].split(\".\")[0]\n",
    "#    new_path = max_file.replace(filename, new_filename)\n",
    "#    try:\n",
    "#        os.rename(max_file, new_path)\n",
    "#    except WindowsError:\n",
    "#        os.remove(filename)\n",
    "#        os.rename(max_file, new_path)\n",
    "#    return new_path\n",
    "\n",
    "\n",
    "servico = Service(ChromeDriverManager().install())\n",
    "\n",
    "driver = webdriver.Chrome(service=servico)\n",
    "\n",
    "\n",
    "\n",
    "#driver = webdriver.Chrome(service=servico)\n",
    "\n",
    "#acessar site\n",
    "driver.get(\"https://www2.aneel.gov.br/aplicacoes_liferay/tarifa/\")\n",
    "time.sleep(2)\n",
    "\n"
   ]
  },
  {
   "cell_type": "code",
   "execution_count": 29,
   "metadata": {},
   "outputs": [],
   "source": [
    "lista_agentes = ['ENEL CE', 'ENEL RJ', 'Equatorial PI', 'CEMIG-D']\n",
    "links_download = []"
   ]
  },
  {
   "cell_type": "code",
   "execution_count": 30,
   "metadata": {},
   "outputs": [],
   "source": [
    "for item in lista_agentes:\n",
    "    #Seleciona Categoria do Agente Todos\n",
    "    select_cat_agente = Select(driver.find_element(By.NAME,\"CategoriaAgente\"))\n",
    "    select_cat_agente.select_by_visible_text('Todos')\n",
    "    time.sleep(1)\n",
    "\n",
    "    #Seleciona o Agente\n",
    "    select_agente = Select(driver.find_element(By.NAME,\"Agentes\"))\n",
    "    options_agente = [x.text for x in select_agente.options] #Traz todas as opcoes\n",
    "    i=0\n",
    "    for element in options_agente:\n",
    "        if element == item:\n",
    "            select_agente.select_by_index(i)\n",
    "            break\n",
    "        i+=1\n",
    "\n",
    "    time.sleep(1)\n",
    "    #Seleciona Tipo de Processo\n",
    "    select_tipo_processo = Select(driver.find_element(By.NAME,\"TipoProcesso\"))\n",
    "    select_tipo_processo.select_by_visible_text('Todos')\n",
    "    time.sleep(1)\n",
    "    #Seleciona Ano\n",
    "    select_ano = Select(driver.find_element(By.NAME,\"Ano\"))\n",
    "    select_ano.select_by_visible_text('Todos')\n",
    "\n",
    "    time.sleep(1)\n",
    "\n",
    "    #Clica em Procurar\n",
    "    driver.find_element(By.XPATH,'/html/body/table/tbody/tr[2]/td[5]/input').click()\n",
    "\n",
    "    time.sleep(1)\n",
    "\n",
    "    #Pegar o link de download do arquivo PCAT mais atualizado (estrutura tarifaria)\n",
    "    link = driver.find_element(By.XPATH, '/html/body/div/table/tbody/tr[4]/td[7]/a').get_attribute('href')\n",
    "    links_download.append(link)\n"
   ]
  },
  {
   "cell_type": "code",
   "execution_count": 63,
   "metadata": {},
   "outputs": [],
   "source": [
    "#agente_links['ENEL CE']\n",
    "#type(links_download[0])\n",
    "driver = webdriver.Chrome(service=servico)\n",
    "driver.get(links_download[0])"
   ]
  },
  {
   "cell_type": "code",
   "execution_count": 70,
   "metadata": {},
   "outputs": [],
   "source": [
    "#abrir nova instancia do chrome\n",
    "driver = webdriver.Chrome(service=servico)\n",
    "\n",
    "#Dicionario Chave: Agente(concessionaria) e Valor: Link para download\n",
    "agente_links = dict(zip(lista_agentes, links_download))\n",
    "\n",
    "#Baixar os Arquivos e Renomear\n",
    "for agente in agente_links:\n",
    "    driver.get(agente_links[agente])\n",
    "    time.sleep(8) #posteriormente implementar uma forma de ver se o download acabou para substituir o sleep\n",
    "    get_last_filename_and_rename(r'C:\\Users\\iagom\\Downloads', agente)\n",
    "\n",
    "#for key in agente_links:\n",
    "#    print(agente_links[key])\n",
    "    \n",
    "\n",
    "\n",
    "\n"
   ]
  },
  {
   "cell_type": "code",
   "execution_count": 32,
   "metadata": {},
   "outputs": [
    {
     "data": {
      "text/plain": [
       "['ENEL CE', 'ENEL RJ', 'Equatorial PI', 'CEMIG-D']"
      ]
     },
     "execution_count": 32,
     "metadata": {},
     "output_type": "execute_result"
    }
   ],
   "source": [
    "lista_agentes"
   ]
  },
  {
   "cell_type": "code",
   "execution_count": 33,
   "metadata": {},
   "outputs": [
    {
     "data": {
      "text/plain": [
       "['https://www2.aneel.gov.br/aplicacoes/tarifa/arquivo/39%20PCAT%20Enel%20CE%202022%20V021.xlsx',\n",
       " 'https://www2.aneel.gov.br/aplicacoes/tarifa/arquivo/383%20PCAT%20Enel%20RJ%202022%20V021.xlsx',\n",
       " 'https://www2.aneel.gov.br/aplicacoes/tarifa/arquivo/38%20PCAT%20Equatorial%20PI%202022%20V02.xlsx',\n",
       " 'https://www2.aneel.gov.br/aplicacoes/tarifa/arquivo/4950%20PCAT%20Cemig-D%202022%20V02.xlsx']"
      ]
     },
     "execution_count": 33,
     "metadata": {},
     "output_type": "execute_result"
    }
   ],
   "source": [
    "links_download"
   ]
  },
  {
   "cell_type": "code",
   "execution_count": 37,
   "metadata": {},
   "outputs": [],
   "source": []
  },
  {
   "cell_type": "code",
   "execution_count": 38,
   "metadata": {},
   "outputs": [
    {
     "data": {
      "text/plain": [
       "{'ENEL CE': 'https://www2.aneel.gov.br/aplicacoes/tarifa/arquivo/39%20PCAT%20Enel%20CE%202022%20V021.xlsx',\n",
       " 'ENEL RJ': 'https://www2.aneel.gov.br/aplicacoes/tarifa/arquivo/383%20PCAT%20Enel%20RJ%202022%20V021.xlsx',\n",
       " 'Equatorial PI': 'https://www2.aneel.gov.br/aplicacoes/tarifa/arquivo/38%20PCAT%20Equatorial%20PI%202022%20V02.xlsx',\n",
       " 'CEMIG-D': 'https://www2.aneel.gov.br/aplicacoes/tarifa/arquivo/4950%20PCAT%20Cemig-D%202022%20V02.xlsx'}"
      ]
     },
     "execution_count": 38,
     "metadata": {},
     "output_type": "execute_result"
    }
   ],
   "source": [
    "c"
   ]
  },
  {
   "cell_type": "code",
   "execution_count": 23,
   "metadata": {},
   "outputs": [
    {
     "data": {
      "text/plain": [
       "['Escolha um processo',\n",
       " 'Todos',\n",
       " 'AME',\n",
       " 'Boa Vista',\n",
       " 'CAIUÁ',\n",
       " 'CASTRO - DIS',\n",
       " 'CEA',\n",
       " 'CEB',\n",
       " 'CEBDIS',\n",
       " 'CEDRAP',\n",
       " 'CEDRI',\n",
       " 'CEEE-D',\n",
       " 'CEGERO',\n",
       " 'CEJAMA',\n",
       " 'CELESC',\n",
       " 'CELESC-DIS',\n",
       " 'CELETRO',\n",
       " 'CELG',\n",
       " 'CELG-D',\n",
       " 'CELPE',\n",
       " 'CEMIG-D',\n",
       " 'CEMIRIM',\n",
       " 'CEPRAG',\n",
       " 'CERAÇÁ',\n",
       " 'CERAL ANITÁPOLIS',\n",
       " 'CERAL ARAPOTI',\n",
       " 'CERAL ARARUAMA',\n",
       " 'CERBRANORTE',\n",
       " 'CERCI',\n",
       " 'CERCOS',\n",
       " 'CEREJ',\n",
       " 'CERES',\n",
       " 'CERFOX',\n",
       " 'CERGAL',\n",
       " 'CERGAPA',\n",
       " 'CERGRAL',\n",
       " 'CERILUZ',\n",
       " 'CERIM',\n",
       " 'CERIPA',\n",
       " 'CERIS',\n",
       " 'CERMC',\n",
       " 'CERMC',\n",
       " 'CERMISSÕES',\n",
       " 'CERMOFUL',\n",
       " 'CERNHE',\n",
       " 'CERON',\n",
       " 'CERPALO',\n",
       " 'CERPRO',\n",
       " 'CERR',\n",
       " 'CERRP',\n",
       " 'CERSAD DISTRIBUIDORA',\n",
       " 'CERSUL',\n",
       " 'CERTAJA',\n",
       " 'CERTEL ENERGIA',\n",
       " 'CERTHIL',\n",
       " 'CERTREL',\n",
       " 'CERVAM',\n",
       " 'CETRIL',\n",
       " 'CFLO',\n",
       " 'CHESP',\n",
       " 'CNEE',\n",
       " 'COCEL',\n",
       " 'CODESAM',\n",
       " 'COELBA',\n",
       " 'COOPERA',\n",
       " 'COOPERALIANÇA',\n",
       " 'COOPERCOCAL',\n",
       " 'COOPERLUZ',\n",
       " 'COOPERMILA',\n",
       " 'COOPERNORTE',\n",
       " 'COOPERSUL',\n",
       " 'COOPERZEM',\n",
       " 'COORSEL',\n",
       " 'COPEL-DIS',\n",
       " 'COPREL',\n",
       " 'COSERN',\n",
       " 'CPFL Jaguari',\n",
       " 'CPFL Leste Paulista',\n",
       " 'CPFL Mococa',\n",
       " 'CPFL- PIRATININGA',\n",
       " 'CPFL Santa Cruz',\n",
       " 'CPFL Sul Paulista',\n",
       " 'CPFL-PAULISTA',\n",
       " 'CRELUZ-D',\n",
       " 'CRERAL',\n",
       " 'DCELT',\n",
       " 'DEMEI',\n",
       " 'DMED',\n",
       " 'EBO',\n",
       " 'EDEVP',\n",
       " 'EDP ES',\n",
       " 'EDP SP',\n",
       " 'EEB',\n",
       " 'EFLJC',\n",
       " 'EFLUL',\n",
       " 'ELEKTRO',\n",
       " 'ELETROACRE',\n",
       " 'ELETROCAR',\n",
       " 'ELETROPAULO',\n",
       " 'ELFSM',\n",
       " 'EMG',\n",
       " 'EMS',\n",
       " 'EMT',\n",
       " 'ENEL CE',\n",
       " 'ENEL RJ',\n",
       " 'ENF',\n",
       " 'EPB',\n",
       " 'Equatorial AL',\n",
       " 'Equatorial MA',\n",
       " 'Equatorial PA',\n",
       " 'Equatorial PI',\n",
       " 'ESE',\n",
       " 'ESS',\n",
       " 'ETO',\n",
       " 'FORCEL',\n",
       " 'HIDROPAN',\n",
       " 'LIGHT',\n",
       " 'MUXENERGIA',\n",
       " 'RGE',\n",
       " 'RGE SUL',\n",
       " 'SULGIPE',\n",
       " 'UHENPAL']"
      ]
     },
     "execution_count": 23,
     "metadata": {},
     "output_type": "execute_result"
    }
   ],
   "source": [
    "#Trazer todas as opções de uma drop down\n",
    "select = Select(driver.find_element(By.NAME,\"Agentes\"))\n",
    "options = [x.text for x in select.options]\n",
    "options\n",
    "\n",
    "#options = Select(1)\n",
    "\n",
    "#options2 = options.options()\n",
    "#options2\n",
    "\n",
    "# select by visible text\n",
    "#select.select_by_visible_text('Todos')\n",
    "\n",
    "# select by value \n",
    "#select.select_by_value('1')"
   ]
  }
 ],
 "metadata": {
  "kernelspec": {
   "display_name": "Python 3.8.8 ('base')",
   "language": "python",
   "name": "python3"
  },
  "language_info": {
   "codemirror_mode": {
    "name": "ipython",
    "version": 3
   },
   "file_extension": ".py",
   "mimetype": "text/x-python",
   "name": "python",
   "nbconvert_exporter": "python",
   "pygments_lexer": "ipython3",
   "version": "3.8.8"
  },
  "orig_nbformat": 4,
  "vscode": {
   "interpreter": {
    "hash": "6fae18430d686fd94b4a6fe66d389dfff64bb20b2e99d78f26920281f70a5a9d"
   }
  }
 },
 "nbformat": 4,
 "nbformat_minor": 2
}
