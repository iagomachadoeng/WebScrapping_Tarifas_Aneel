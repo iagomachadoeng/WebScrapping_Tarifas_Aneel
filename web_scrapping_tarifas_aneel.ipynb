{
 "cells": [
  {
   "cell_type": "code",
   "execution_count": 1,
   "metadata": {},
   "outputs": [
    {
     "name": "stderr",
     "output_type": "stream",
     "text": [
      "[WDM] - Downloading:  63%|██████▎   | 4.27M/6.78M [00:00<00:00, 15.6MB/s]"
     ]
    }
   ],
   "source": [
    "from selenium import webdriver\n",
    "from selenium.webdriver.chrome.service import Service\n",
    "from webdriver_manager.chrome import ChromeDriverManager\n",
    "from selenium.webdriver.common.by import By\n",
    "from selenium.webdriver.support.ui import Select\n",
    "import time\n",
    "import pandas as pd\n",
    "\n",
    "\n",
    "\n",
    "#Função para Renomear arquivo recentemente baixado\n",
    "import os,glob\n",
    "from shutil import move\n",
    "\n",
    "def get_last_filename_and_rename(save_folder, new_filename):\n",
    "    files = glob.glob(save_folder + '/*')\n",
    "    max_file = max(files, key=os.path.getctime)\n",
    "    filename = max_file.split(\"/\")[-1].split(\".\")[0]\n",
    "    new_path = max_file.replace(filename, new_filename)\n",
    "    move(max_file, new_path)\n",
    "    #os.rename(max_file, new_path)\n",
    "    return new_path\n",
    "\n",
    "\n",
    "servico = Service(ChromeDriverManager().install())\n",
    "\n",
    "driver = webdriver.Chrome(service=servico)\n",
    "\n",
    "#acessar site\n",
    "driver.get(\"https://www2.aneel.gov.br/aplicacoes_liferay/tarifa/\")\n",
    "time.sleep(2)"
   ]
  },
  {
   "cell_type": "code",
   "execution_count": 2,
   "metadata": {},
   "outputs": [
    {
     "name": "stderr",
     "output_type": "stream",
     "text": [
      "[WDM] - Downloading: 100%|██████████| 6.78M/6.78M [02:06<00:00, 56.3kB/s]\n"
     ]
    },
    {
     "ename": "KeyboardInterrupt",
     "evalue": "",
     "output_type": "error",
     "traceback": [
      "\u001b[1;31m---------------------------------------------------------------------------\u001b[0m",
      "\u001b[1;31mKeyboardInterrupt\u001b[0m                         Traceback (most recent call last)",
      "Cell \u001b[1;32mIn[2], line 21\u001b[0m\n\u001b[0;32m     19\u001b[0m select_agente\u001b[39m.\u001b[39mselect_by_index(i)\n\u001b[0;32m     20\u001b[0m i\u001b[39m+\u001b[39m\u001b[39m=\u001b[39m\u001b[39m1\u001b[39m\n\u001b[1;32m---> 21\u001b[0m time\u001b[39m.\u001b[39;49msleep(\u001b[39m1\u001b[39;49m)\n\u001b[0;32m     23\u001b[0m \u001b[39mtry\u001b[39;00m:\n\u001b[0;32m     24\u001b[0m     \u001b[39m#Seleciona Tipo de Processo\u001b[39;00m\n\u001b[0;32m     25\u001b[0m     select_tipo_processo \u001b[39m=\u001b[39m Select(driver\u001b[39m.\u001b[39mfind_element(By\u001b[39m.\u001b[39mNAME,\u001b[39m\"\u001b[39m\u001b[39mTipoProcesso\u001b[39m\u001b[39m\"\u001b[39m))\n",
      "\u001b[1;31mKeyboardInterrupt\u001b[0m: "
     ]
    }
   ],
   "source": [
    "#Cria lista para armazenar links de downloads\n",
    "links_download = []\n",
    "lista_agentes = []\n",
    "\n",
    "#Seleciona Categoria do Agente Todos\n",
    "select_cat_agente = Select(driver.find_element(By.NAME,\"CategoriaAgente\"))\n",
    "select_cat_agente.select_by_visible_text('Todos')\n",
    "time.sleep(1)\n",
    "\n",
    "select_agente = Select(driver.find_element(By.NAME,\"Agentes\"))\n",
    "#Traz todas as opcoes de Agente\n",
    "options_agente = [x.text for x in select_agente.options]\n",
    "i=2\n",
    "\n",
    "for element in options_agente[2:]:\n",
    "    #Seleciona o Agente\n",
    "    #select_agente.select_by_index(element)\n",
    "    #select_agente[element]\n",
    "    select_agente.select_by_index(i)\n",
    "    i+=1\n",
    "    time.sleep(1)\n",
    "\n",
    "    try:\n",
    "        #Seleciona Tipo de Processo\n",
    "        select_tipo_processo = Select(driver.find_element(By.NAME,\"TipoProcesso\"))\n",
    "        select_tipo_processo.select_by_visible_text('Todos')\n",
    "        time.sleep(1)\n",
    "\n",
    "        #Seleciona Ano\n",
    "        select_ano = Select(driver.find_element(By.NAME,\"Ano\"))\n",
    "        select_ano.select_by_visible_text('Todos')\n",
    "        time.sleep(1)\n",
    "\n",
    "        #Clica em Procurar\n",
    "        driver.find_element(By.XPATH,'/html/body/table/tbody/tr[2]/td[5]/input').click()\n",
    "        time.sleep(1)\n",
    "\n",
    "        #Pegar o link de download do arquivo PCAT mais atualizado (estrutura tarifaria)\n",
    "        link = driver.find_element(By.XPATH, '/html/body/div/table/tbody/tr[4]/td[7]/a').get_attribute('href')\n",
    "    except:\n",
    "        continue\n",
    "    links_download.append(link)\n",
    "    lista_agentes.append(element)\n",
    "    \n",
    "    #data = driver.find_element(By.XPATH,'/html/body/div/table/tbody/tr[4]/td[4]').get_attribute('td')\n",
    "    #datas.append(data)\n",
    "    \n"
   ]
  },
  {
   "cell_type": "code",
   "execution_count": 3,
   "metadata": {},
   "outputs": [
    {
     "data": {
      "text/plain": [
       "'https://www2.aneel.gov.br/aplicacoes/tarifa/arquivo/7019%20PCAT%20AmE%202022%20V02.xlsx'"
      ]
     },
     "execution_count": 3,
     "metadata": {},
     "output_type": "execute_result"
    }
   ],
   "source": [
    "links_download[0]"
   ]
  },
  {
   "cell_type": "code",
   "execution_count": 54,
   "metadata": {},
   "outputs": [],
   "source": [
    "#abrir nova instancia do chrome\n",
    "driver = webdriver.Chrome(service=servico)\n",
    "\n",
    "#Dicionario Chave: Agente(concessionaria) e Valor: Link para download\n",
    "agente_links = dict(zip(lista_agentes, links_download))\n",
    "\n",
    "#Baixar os Arquivos e Renomear\n",
    "for agente in agente_links:\n",
    "    driver.get(agente_links[agente])\n",
    "    time.sleep(4) #posteriormente implementar uma forma de ver se o download acabou para substituir o sleep\n",
    "    try:\n",
    "        get_last_filename_and_rename(r'C:\\Users\\iagom\\Downloads', agente)\n",
    "    except:\n",
    "        time.sleep(4)\n",
    "        get_last_filename_and_rename(r'C:\\Users\\iagom\\Downloads', agente)\n",
    "#for key in agente_links:\n",
    "#    print(agente_links[key])\n",
    "    \n",
    "\n",
    "\n",
    "\n"
   ]
  },
  {
   "cell_type": "code",
   "execution_count": 4,
   "metadata": {},
   "outputs": [],
   "source": [
    "planilha = pd.ExcelFile('https://www2.aneel.gov.br/aplicacoes/tarifa/arquivo/7019%20PCAT%20AmE%202022%20V02.xlsx', engine = 'openpyxl')"
   ]
  },
  {
   "cell_type": "code",
   "execution_count": 8,
   "metadata": {},
   "outputs": [],
   "source": [
    "df = pd.read_excel(planilha, 'TA - Aplicação', skiprows = 2)"
   ]
  },
  {
   "cell_type": "code",
   "execution_count": 57,
   "metadata": {},
   "outputs": [],
   "source": [
    "concessionaria = lista_agentes\n",
    "\n",
    "i=0\n",
    "\n",
    "#tratar os dados\n",
    "\n",
    "for element in concessionaria:   \n",
    "    \n",
    "    try:\n",
    "        planilha = pd.ExcelFile(element+\".xlsx\", engine = 'openpyxl')\n",
    "        df = pd.read_excel(planilha, 'TA - Aplicação', skiprows = 2)\n",
    "    except:\n",
    "        print(\"Tabela sem TA Aplicação:\", element)\n",
    "        continue\n",
    "    #limpeza\n",
    "    df.drop('Unnamed: 0', inplace=True, axis=1)\n",
    "    \n",
    "    #adiciona a coluna com o nome da concessionaria\n",
    "    df.insert(0,'CONCESSIONARIA', element)\n",
    "\n",
    "    #filtra apenas as colunas de interesse\n",
    "    df2 = df.filter(items=['CONCESSIONARIA', 'SUBGRUPO', 'MODALIDADE', 'CLASSE', 'SUBCLASSE', 'POSTO', 'UNIDADE', 'Total TUSD', 'Total TE'])\n",
    "    \n",
    "    #concatena todas os DF\n",
    "    if i == 0:\n",
    "        df_geral = df2\n",
    "        i = 1\n",
    "    else:\n",
    "        df_geral = pd.concat([df_geral, df2], ignore_index=True)\n",
    "\n",
    "df_geral.to_csv('tarifas.csv', index=False)\n",
    "#df_geral.to_json('tarifas.json', orient='index')"
   ]
  },
  {
   "cell_type": "code",
   "execution_count": 58,
   "metadata": {},
   "outputs": [],
   "source": [
    "df_geral.to_json('tarifas.json', orient='index')"
   ]
  }
 ],
 "metadata": {
  "kernelspec": {
   "display_name": "Python 3.8.8 ('base')",
   "language": "python",
   "name": "python3"
  },
  "language_info": {
   "codemirror_mode": {
    "name": "ipython",
    "version": 3
   },
   "file_extension": ".py",
   "mimetype": "text/x-python",
   "name": "python",
   "nbconvert_exporter": "python",
   "pygments_lexer": "ipython3",
   "version": "3.8.8"
  },
  "orig_nbformat": 4,
  "vscode": {
   "interpreter": {
    "hash": "6fae18430d686fd94b4a6fe66d389dfff64bb20b2e99d78f26920281f70a5a9d"
   }
  }
 },
 "nbformat": 4,
 "nbformat_minor": 2
}
