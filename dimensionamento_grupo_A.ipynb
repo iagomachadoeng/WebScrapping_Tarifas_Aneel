{
 "cells": [
  {
   "cell_type": "code",
   "execution_count": null,
   "metadata": {},
   "outputs": [],
   "source": [
    "import pandas as pd"
   ]
  },
  {
   "cell_type": "code",
   "execution_count": null,
   "metadata": {},
   "outputs": [],
   "source": [
    "df = pd.read_csv('tarifas_direto.csv')"
   ]
  }
 ],
 "metadata": {
  "kernelspec": {
   "display_name": "base",
   "language": "python",
   "name": "python3"
  },
  "language_info": {
   "name": "python",
   "version": "3.8.8"
  },
  "orig_nbformat": 4,
  "vscode": {
   "interpreter": {
    "hash": "6fae18430d686fd94b4a6fe66d389dfff64bb20b2e99d78f26920281f70a5a9d"
   }
  }
 },
 "nbformat": 4,
 "nbformat_minor": 2
}
