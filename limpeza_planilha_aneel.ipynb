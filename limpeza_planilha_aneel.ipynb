{
 "cells": [
  {
   "cell_type": "code",
   "execution_count": 6,
   "metadata": {},
   "outputs": [],
   "source": [
    "import pandas as pd\n"
   ]
  },
  {
   "cell_type": "code",
   "execution_count": 9,
   "metadata": {},
   "outputs": [],
   "source": [
    "concessionaria = ['ENEL CE', 'ENEL RJ', 'Equatorial PI', 'CEMIG-D']\n",
    "i=0\n",
    "\n",
    "for element in concessionaria:   \n",
    "    \n",
    "    planilha = pd.ExcelFile(element+\".xlsx\", engine = 'openpyxl')\n",
    "    df = pd.read_excel(planilha, 'TA - Aplicação', skiprows = 2)\n",
    "    \n",
    "    #limpeza\n",
    "    df.drop('Unnamed: 0', inplace=True, axis=1)\n",
    "    \n",
    "    #adiciona a coluna com o nome da concessionaria\n",
    "    df.insert(0,'CONCESSIONARIA', element)\n",
    "\n",
    "    #filtra apenas as colunas de interesse\n",
    "    df2 = df.filter(items=['CONCESSIONARIA', 'SUBGRUPO', 'MODALIDADE', 'CLASSE', 'SUBCLASSE', 'POSTO', 'UNIDADE', 'Total TUSD', 'Total TE'])\n",
    "    \n",
    "    #concatena todas os DF\n",
    "    if i == 0:\n",
    "        df_geral = df2\n",
    "        i = 1\n",
    "    else:\n",
    "        df_geral = pd.concat([df_geral, df2], ignore_index=True)\n",
    "\n",
    "#df_geral.to_csv('tarifas.csv', index=False)\n",
    "df_geral.to_json('tarifas.json', orient='index')"
   ]
  },
  {
   "cell_type": "code",
   "execution_count": null,
   "metadata": {},
   "outputs": [],
   "source": [
    "df3 = df2.loc[(df2['SUBGRUPO'] == 'B1') & (df2['MODALIDADE'] == 'Convencional') & (df2['CLASSE'] == 'Residencial') & (df2['SUBCLASSE'] == 'Residencial')]\n",
    "#df3\n",
    "#df3.style.hide_index()\n"
   ]
  },
  {
   "cell_type": "code",
   "execution_count": 5,
   "metadata": {},
   "outputs": [
    {
     "ename": "NameError",
     "evalue": "name 'df3' is not defined",
     "output_type": "error",
     "traceback": [
      "\u001b[1;31m---------------------------------------------------------------------------\u001b[0m",
      "\u001b[1;31mNameError\u001b[0m                                 Traceback (most recent call last)",
      "Cell \u001b[1;32mIn[5], line 1\u001b[0m\n\u001b[1;32m----> 1\u001b[0m totalTusd \u001b[39m=\u001b[39m df3[\u001b[39m'\u001b[39m\u001b[39mTotal TUSD\u001b[39m\u001b[39m'\u001b[39m]\u001b[39m.\u001b[39miloc[\u001b[39m0\u001b[39m]\n\u001b[0;32m      2\u001b[0m totalTe \u001b[39m=\u001b[39m df3[\u001b[39m'\u001b[39m\u001b[39mTotal TE\u001b[39m\u001b[39m'\u001b[39m]\u001b[39m.\u001b[39miloc[\u001b[39m0\u001b[39m]\n",
      "\u001b[1;31mNameError\u001b[0m: name 'df3' is not defined"
     ]
    }
   ],
   "source": [
    "totalTusd = df3['Total TUSD'].iloc[0]\n",
    "totalTe = df3['Total TE'].iloc[0]"
   ]
  }
 ],
 "metadata": {
  "kernelspec": {
   "display_name": "base",
   "language": "python",
   "name": "python3"
  },
  "language_info": {
   "codemirror_mode": {
    "name": "ipython",
    "version": 3
   },
   "file_extension": ".py",
   "mimetype": "text/x-python",
   "name": "python",
   "nbconvert_exporter": "python",
   "pygments_lexer": "ipython3",
   "version": "3.9.13"
  },
  "orig_nbformat": 4,
  "vscode": {
   "interpreter": {
    "hash": "6fae18430d686fd94b4a6fe66d389dfff64bb20b2e99d78f26920281f70a5a9d"
   }
  }
 },
 "nbformat": 4,
 "nbformat_minor": 2
}
